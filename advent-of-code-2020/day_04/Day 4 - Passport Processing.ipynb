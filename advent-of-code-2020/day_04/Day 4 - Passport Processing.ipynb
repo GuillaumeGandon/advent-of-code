{
 "cells": [
  {
   "cell_type": "code",
   "execution_count": 1,
   "metadata": {
    "ExecuteTime": {
     "end_time": "2020-12-06T13:26:42.291789Z",
     "start_time": "2020-12-06T13:26:42.287888Z"
    }
   },
   "outputs": [],
   "source": [
    "import re\n",
    "\n",
    "with open('input.txt', 'r') as f:\n",
    "    data = [\n",
    "        re.findall(r\"[\\w]+:[?#\\w]+\", passport)\n",
    "        for passport\n",
    "        in f.read().split('\\n\\n')\n",
    "    ]"
   ]
  },
  {
   "cell_type": "code",
   "execution_count": 2,
   "metadata": {
    "ExecuteTime": {
     "end_time": "2020-12-06T13:26:42.296633Z",
     "start_time": "2020-12-06T13:26:42.293646Z"
    }
   },
   "outputs": [],
   "source": [
    "passport_data = [\n",
    "    dict(\n",
    "        field.split(':')\n",
    "        for field\n",
    "        in passport \n",
    "    )\n",
    "    for passport\n",
    "    in data\n",
    "]"
   ]
  },
  {
   "cell_type": "code",
   "execution_count": 3,
   "metadata": {
    "ExecuteTime": {
     "end_time": "2020-12-06T13:26:42.302060Z",
     "start_time": "2020-12-06T13:26:42.297597Z"
    }
   },
   "outputs": [],
   "source": [
    "required_fields = ['byr', 'iyr', 'eyr', 'hgt', 'hcl', 'ecl', 'pid']\n",
    "valid_eye_colors = ['amb', 'blu', 'brn', 'gry', 'grn', 'hzl', 'oth']\n",
    "\n",
    "\n",
    "def check_rules(passport):\n",
    "    return bool(\n",
    "        1920 <= int(passport['byr']) <= 2002\n",
    "        and 2010 <= int(passport['iyr']) <= 2020\n",
    "        and 2020 <= int(passport['eyr']) <= 2030\n",
    "        and check_height(passport['hgt'])\n",
    "        and check_hair_color(passport['hcl'])\n",
    "        and passport['ecl'] in valid_eye_colors\n",
    "        and check_passport_id(passport['pid'])\n",
    "    )\n",
    "\n",
    "\n",
    "def check_height(height):\n",
    "    if 'in' in height:\n",
    "        height = int(height.replace('in', ''))\n",
    "        return 59 <= height <= 76\n",
    "    elif 'cm' in height:\n",
    "        height = int(height.replace('cm', ''))\n",
    "        return 150 <= height <= 193\n",
    "    else:\n",
    "        return False\n",
    "\n",
    "\n",
    "def check_hair_color(hair_color):\n",
    "    return re.fullmatch(r\"#[a-f0-9]{6}\", hair_color)\n",
    "\n",
    "\n",
    "def check_passport_id(passport_id):\n",
    "    return re.fullmatch(r\"[0-9]{9}\", passport_id)"
   ]
  },
  {
   "cell_type": "code",
   "execution_count": 4,
   "metadata": {
    "ExecuteTime": {
     "end_time": "2020-12-06T13:26:42.306186Z",
     "start_time": "2020-12-06T13:26:42.302953Z"
    }
   },
   "outputs": [
    {
     "name": "stdout",
     "output_type": "stream",
     "text": [
      "Answer part one: 182\n"
     ]
    }
   ],
   "source": [
    "valid_passports_part_one = [\n",
    "    passport\n",
    "    for passport\n",
    "    in passport_data\n",
    "    if all(field in passport for field in required_fields)\n",
    "]\n",
    "print(f'Answer part one: {len(valid_passports_part_one)}')"
   ]
  },
  {
   "cell_type": "code",
   "execution_count": 5,
   "metadata": {
    "ExecuteTime": {
     "end_time": "2020-12-06T13:26:42.310245Z",
     "start_time": "2020-12-06T13:26:42.307147Z"
    }
   },
   "outputs": [
    {
     "name": "stdout",
     "output_type": "stream",
     "text": [
      "Answer part two: 109\n"
     ]
    }
   ],
   "source": [
    "valid_passports_part_two = [\n",
    "    passport\n",
    "    for passport\n",
    "    in valid_passports_part_one\n",
    "    if check_rules(passport)\n",
    "]\n",
    "print(f'Answer part two: {len(valid_passports_part_two)}')"
   ]
  }
 ],
 "metadata": {
  "kernelspec": {
   "display_name": "Python 3",
   "language": "python",
   "name": "python3"
  },
  "language_info": {
   "codemirror_mode": {
    "name": "ipython",
    "version": 3
   },
   "file_extension": ".py",
   "mimetype": "text/x-python",
   "name": "python",
   "nbconvert_exporter": "python",
   "pygments_lexer": "ipython3",
   "version": "3.8.5"
  }
 },
 "nbformat": 4,
 "nbformat_minor": 4
}
