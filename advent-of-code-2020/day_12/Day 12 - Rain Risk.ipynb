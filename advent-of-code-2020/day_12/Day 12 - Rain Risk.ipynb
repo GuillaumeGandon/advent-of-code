{
 "cells": [
  {
   "cell_type": "code",
   "execution_count": 1,
   "metadata": {
    "ExecuteTime": {
     "end_time": "2020-12-12T06:41:41.173393Z",
     "start_time": "2020-12-12T06:41:41.169490Z"
    }
   },
   "outputs": [],
   "source": [
    "with open('input.txt', 'r') as f:\n",
    "    instructions = [(line[0], int(line[1:])) for line in f.read().splitlines()]"
   ]
  },
  {
   "cell_type": "code",
   "execution_count": 2,
   "metadata": {
    "ExecuteTime": {
     "end_time": "2020-12-12T06:41:41.180325Z",
     "start_time": "2020-12-12T06:41:41.177452Z"
    }
   },
   "outputs": [],
   "source": [
    "CARDINALS = 'ESWN'\n",
    "\n",
    "\n",
    "def move(action, value, x, y):\n",
    "    if action == 'N':\n",
    "        y -= value\n",
    "    if action == 'S':\n",
    "        y += value\n",
    "    if action == 'E':\n",
    "        x += value\n",
    "    if action == 'W':\n",
    "        x -= value\n",
    "    return x, y"
   ]
  },
  {
   "cell_type": "code",
   "execution_count": 3,
   "metadata": {
    "ExecuteTime": {
     "end_time": "2020-12-12T06:41:41.186517Z",
     "start_time": "2020-12-12T06:41:41.181955Z"
    }
   },
   "outputs": [
    {
     "name": "stdout",
     "output_type": "stream",
     "text": [
      "Answer part one: 2057\n"
     ]
    }
   ],
   "source": [
    "x, y = 0, 0\n",
    "direction = 'E'\n",
    "\n",
    "for action, value in instructions:\n",
    "    if action in CARDINALS:\n",
    "        x, y = move(action, value, x, y)\n",
    "    elif action == 'F':\n",
    "        x, y = move(direction, value, x, y)\n",
    "    else:\n",
    "        if action == 'L':\n",
    "            t = -value / 90\n",
    "        elif action == 'R':\n",
    "            t = value / 90\n",
    "        direction = CARDINALS[int((CARDINALS.index(direction) + t) % 4)]\n",
    "\n",
    "print(f\"Answer part one: {abs(x)+abs(y)}\")"
   ]
  },
  {
   "cell_type": "code",
   "execution_count": 4,
   "metadata": {
    "ExecuteTime": {
     "end_time": "2020-12-12T06:41:41.193341Z",
     "start_time": "2020-12-12T06:41:41.188254Z"
    }
   },
   "outputs": [
    {
     "name": "stdout",
     "output_type": "stream",
     "text": [
      "Answer part two: 71504\n"
     ]
    }
   ],
   "source": [
    "x, y = 0, 0\n",
    "wx, wy = 10, -1\n",
    "\n",
    "for action, value in instructions:\n",
    "    if action in CARDINALS:\n",
    "        wx, wy = move(action, value, wx, wy)\n",
    "    elif action == 'F':\n",
    "        x += wx * value\n",
    "        y += wy * value\n",
    "    else:\n",
    "        if action == 'L':\n",
    "            pd = int((-value / 90) % 4)\n",
    "        elif action == 'R':\n",
    "            pd = int((value / 90) % 4)\n",
    "        if pd == 1:\n",
    "            wx, wy = -wy, wx\n",
    "        elif pd == 2:\n",
    "            wx, wy = -wx, -wy\n",
    "        elif pd == 3:\n",
    "            wx, wy = wy, -wx\n",
    "\n",
    "print(f\"Answer part two: {abs(x)+abs(y)}\")"
   ]
  }
 ],
 "metadata": {
  "kernelspec": {
   "display_name": "Python 3",
   "language": "python",
   "name": "python3"
  },
  "language_info": {
   "codemirror_mode": {
    "name": "ipython",
    "version": 3
   },
   "file_extension": ".py",
   "mimetype": "text/x-python",
   "name": "python",
   "nbconvert_exporter": "python",
   "pygments_lexer": "ipython3",
   "version": "3.9.0+"
  }
 },
 "nbformat": 4,
 "nbformat_minor": 4
}
