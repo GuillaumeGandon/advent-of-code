{
 "cells": [
  {
   "cell_type": "code",
   "execution_count": 1,
   "metadata": {
    "ExecuteTime": {
     "end_time": "2020-12-07T14:15:25.918551Z",
     "start_time": "2020-12-07T14:15:25.915318Z"
    }
   },
   "outputs": [],
   "source": [
    "with open('input.txt', 'r') as f:\n",
    "    luggage_rules = dict(\n",
    "        rule.strip('.').split(' bags contain ')\n",
    "        for rule in f.read().splitlines()\n",
    "    )"
   ]
  },
  {
   "cell_type": "code",
   "execution_count": 2,
   "metadata": {
    "ExecuteTime": {
     "end_time": "2020-12-07T14:15:25.932172Z",
     "start_time": "2020-12-07T14:15:25.919735Z"
    },
    "scrolled": true
   },
   "outputs": [
    {
     "name": "stdout",
     "output_type": "stream",
     "text": [
      "Answer part one: 179\n"
     ]
    }
   ],
   "source": [
    "def find_bags_containing(search_colors, found_colors=set()):\n",
    "    if search_colors:\n",
    "        next_search_colors = set([\n",
    "            k\n",
    "            for k, v in luggage_rules.items()\n",
    "            for c in search_colors\n",
    "            if c in v\n",
    "        ]) - found_colors\n",
    "        return find_bags_containing(\n",
    "            next_search_colors,\n",
    "            found_colors.union(next_search_colors)\n",
    "        )\n",
    "    else:\n",
    "        return found_colors\n",
    "\n",
    "\n",
    "bags_containing_shiny_gold = find_bags_containing(['shiny gold'])\n",
    "print(f\"Answer part one: {len(bags_containing_shiny_gold)}\")"
   ]
  },
  {
   "cell_type": "code",
   "execution_count": 3,
   "metadata": {
    "ExecuteTime": {
     "end_time": "2020-12-07T14:15:25.935870Z",
     "start_time": "2020-12-07T14:15:25.933088Z"
    }
   },
   "outputs": [],
   "source": [
    "luggage_rules = {\n",
    "    k: v.replace(' bags', '').replace(' bag', '').split(', ')\n",
    "    for k, v in luggage_rules.items()\n",
    "}"
   ]
  },
  {
   "cell_type": "code",
   "execution_count": 4,
   "metadata": {
    "ExecuteTime": {
     "end_time": "2020-12-07T14:15:25.939937Z",
     "start_time": "2020-12-07T14:15:25.936868Z"
    }
   },
   "outputs": [
    {
     "name": "stdout",
     "output_type": "stream",
     "text": [
      "Answer part two: 18925\n"
     ]
    }
   ],
   "source": [
    "def count_bags_contained_in(key, factor=1):\n",
    "    total_nb_bags = 0\n",
    "    if luggage_rules[key] == ['no other']:\n",
    "        return 0\n",
    "    else:\n",
    "        for rule_part in luggage_rules[key]:\n",
    "            nb_bags = int(rule_part[0])\n",
    "            color = rule_part[2:]\n",
    "            total_nb_bags += nb_bags * (count_bags_contained_in(color, nb_bags) + 1)\n",
    "\n",
    "    return total_nb_bags\n",
    "\n",
    "\n",
    "print(f\"Answer part two: {count_bags_contained_in('shiny gold')}\")"
   ]
  }
 ],
 "metadata": {
  "kernelspec": {
   "display_name": "Python 3",
   "language": "python",
   "name": "python3"
  },
  "language_info": {
   "codemirror_mode": {
    "name": "ipython",
    "version": 3
   },
   "file_extension": ".py",
   "mimetype": "text/x-python",
   "name": "python",
   "nbconvert_exporter": "python",
   "pygments_lexer": "ipython3",
   "version": "3.8.5"
  }
 },
 "nbformat": 4,
 "nbformat_minor": 4
}
