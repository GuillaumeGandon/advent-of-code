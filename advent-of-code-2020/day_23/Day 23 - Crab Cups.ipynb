{
 "cells": [
  {
   "cell_type": "code",
   "execution_count": 1,
   "metadata": {
    "ExecuteTime": {
     "end_time": "2020-12-23T21:49:02.732035Z",
     "start_time": "2020-12-23T21:49:02.727822Z"
    }
   },
   "outputs": [],
   "source": [
    "def play_game(cups, nb_move):\n",
    "    cur = cups[0]\n",
    "    max_cup = max(cups)\n",
    "    len_cups = len(cups)\n",
    "    cups = {cups[i]: cups[(i + 1) % len_cups] for i in range(len_cups)}\n",
    "\n",
    "    for _ in range(nb_move):\n",
    "        pick_up_1 = cups[cur]\n",
    "        pick_up_2 = cups[pick_up_1]\n",
    "        pick_up_3 = cups[pick_up_2]\n",
    "\n",
    "        destination = cur\n",
    "        while destination in (cur, pick_up_1, pick_up_2, pick_up_3):\n",
    "            destination = destination - 1 or max_cup\n",
    "            \n",
    "        cups[cur] = cur = cups[pick_up_3]\n",
    "        cups[pick_up_3] = cups[destination]\n",
    "        cups[destination] = pick_up_1\n",
    "\n",
    "    return cups\n",
    "\n",
    "\n",
    "def get_label_after_one(cups):\n",
    "    label = [1]\n",
    "    while cups[label[-1]] != 1:\n",
    "        label.append(cups[label[-1]])\n",
    "    return ''.join(map(str, label[1:]))"
   ]
  },
  {
   "cell_type": "code",
   "execution_count": 2,
   "metadata": {
    "ExecuteTime": {
     "end_time": "2020-12-23T21:49:02.737133Z",
     "start_time": "2020-12-23T21:49:02.733881Z"
    }
   },
   "outputs": [
    {
     "name": "stdout",
     "output_type": "stream",
     "text": [
      "Answer part one: 89372645\n"
     ]
    }
   ],
   "source": [
    "cups = tuple(map(int, '614752839'))\n",
    "final_cups = play_game(cups, nb_move=100)\n",
    "print(f\"Answer part one: {get_label_after_one(final_cups)}\")"
   ]
  },
  {
   "cell_type": "code",
   "execution_count": 3,
   "metadata": {
    "ExecuteTime": {
     "end_time": "2020-12-23T21:49:08.567150Z",
     "start_time": "2020-12-23T21:49:02.739194Z"
    }
   },
   "outputs": [
    {
     "name": "stdout",
     "output_type": "stream",
     "text": [
      "Answer part two: 21273394210\n"
     ]
    }
   ],
   "source": [
    "cups = tuple(map(int, '614752839'))\n",
    "cups += tuple(range(10, 1_000_000 + 1))\n",
    "final_cups = play_game(cups, nb_move=10_000_000)\n",
    "print(f\"Answer part two: {final_cups[1]*final_cups[final_cups[1]]}\")"
   ]
  }
 ],
 "metadata": {
  "kernelspec": {
   "display_name": "Python 3",
   "language": "python",
   "name": "python3"
  },
  "language_info": {
   "codemirror_mode": {
    "name": "ipython",
    "version": 3
   },
   "file_extension": ".py",
   "mimetype": "text/x-python",
   "name": "python",
   "nbconvert_exporter": "python",
   "pygments_lexer": "ipython3",
   "version": "3.9.0+"
  }
 },
 "nbformat": 4,
 "nbformat_minor": 4
}
