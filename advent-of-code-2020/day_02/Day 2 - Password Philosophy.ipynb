{
 "cells": [
  {
   "cell_type": "code",
   "execution_count": 1,
   "metadata": {
    "ExecuteTime": {
     "end_time": "2020-12-02T10:26:36.271204Z",
     "start_time": "2020-12-02T10:26:36.265405Z"
    }
   },
   "outputs": [],
   "source": [
    "import re\n",
    "\n",
    "with open('input.txt', 'r') as f:\n",
    "    passwords = [\n",
    "        re.match(r'(.*)-(.*) (.*): (.*)', line).groups()\n",
    "        for line in f.readlines()\n",
    "    ]"
   ]
  },
  {
   "cell_type": "code",
   "execution_count": 2,
   "metadata": {
    "ExecuteTime": {
     "end_time": "2020-12-02T10:26:36.275508Z",
     "start_time": "2020-12-02T10:26:36.272462Z"
    }
   },
   "outputs": [
    {
     "name": "stdout",
     "output_type": "stream",
     "text": [
      "Answer part one: 474\n"
     ]
    }
   ],
   "source": [
    "valid_passwords_part_one = [\n",
    "    password for min_index, max_index, character, password in passwords\n",
    "    if int(min_index) <= password.count(character) <= int(max_index)\n",
    "]\n",
    "\n",
    "print(f'Answer part one: {len(valid_passwords_part_one)}')"
   ]
  },
  {
   "cell_type": "code",
   "execution_count": 3,
   "metadata": {
    "ExecuteTime": {
     "end_time": "2020-12-02T10:26:36.279142Z",
     "start_time": "2020-12-02T10:26:36.276363Z"
    }
   },
   "outputs": [
    {
     "name": "stdout",
     "output_type": "stream",
     "text": [
      "Answer part two: 745\n"
     ]
    }
   ],
   "source": [
    "valid_passwords_part_two = [\n",
    "    password for min_index, max_index, character, password in passwords\n",
    "    if (password[int(min_index) - 1] == character)\n",
    "    ^ (password[int(max_index) - 1] == character)\n",
    "]\n",
    "\n",
    "print(f'Answer part two: {len(valid_passwords_part_two)}')"
   ]
  }
 ],
 "metadata": {
  "kernelspec": {
   "display_name": "Python 3",
   "language": "python",
   "name": "python3"
  },
  "language_info": {
   "codemirror_mode": {
    "name": "ipython",
    "version": 3
   },
   "file_extension": ".py",
   "mimetype": "text/x-python",
   "name": "python",
   "nbconvert_exporter": "python",
   "pygments_lexer": "ipython3",
   "version": "3.8.5"
  }
 },
 "nbformat": 4,
 "nbformat_minor": 4
}
