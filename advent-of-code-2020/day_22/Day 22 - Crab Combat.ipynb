{
 "cells": [
  {
   "cell_type": "code",
   "execution_count": 1,
   "metadata": {
    "ExecuteTime": {
     "end_time": "2020-12-22T13:25:22.480060Z",
     "start_time": "2020-12-22T13:25:22.476276Z"
    }
   },
   "outputs": [],
   "source": [
    "with open('input.txt') as f:\n",
    "    player_1, player_2 = [\n",
    "        tuple(int(card) for card in player.splitlines()[1:])\n",
    "        for player in f.read().split('\\n\\n')\n",
    "    ]"
   ]
  },
  {
   "cell_type": "code",
   "execution_count": 2,
   "metadata": {
    "ExecuteTime": {
     "end_time": "2020-12-22T13:25:22.487279Z",
     "start_time": "2020-12-22T13:25:22.482022Z"
    }
   },
   "outputs": [],
   "source": [
    "def play_round(d1, d2, rec):\n",
    "    t1, t2 = d1[0], d2[0]\n",
    "    l1, l2 = d1[1:], d2[1:]\n",
    "    if rec and t1 <= len(l1) and t2 <= len(l2):\n",
    "        wp, _ = play_game(d1[1:t1 + 1], d2[1:t2 + 1], rec)\n",
    "        if wp == 1:\n",
    "            return l1 + (t1, t2), l2\n",
    "        else:\n",
    "            return l1, l2 + (t2, t1)\n",
    "    else:\n",
    "        if t1 > t2:\n",
    "            return l1 + (t1, t2), l2\n",
    "        else:\n",
    "            return l1, l2 + (t2, t1)\n",
    "\n",
    "\n",
    "def play_game(deck_p1, deck_p2, rec=False):\n",
    "    previous_rounds = set()\n",
    "    while True:\n",
    "        previous_rounds.add((deck_p1, deck_p2))\n",
    "        deck_p1, deck_p2 = play_round(deck_p1, deck_p2, rec)\n",
    "        if not deck_p1:\n",
    "            return 2, deck_p2\n",
    "        elif not deck_p2 or (deck_p1, deck_p2) in previous_rounds:\n",
    "            return 1, deck_p1\n",
    "\n",
    "\n",
    "def compute_score(deck):\n",
    "    return sum(\n",
    "        a * b\n",
    "        for a, b\n",
    "        in zip(range(len(deck), 0, -1), deck)\n",
    "    )"
   ]
  },
  {
   "cell_type": "code",
   "execution_count": 3,
   "metadata": {
    "ExecuteTime": {
     "end_time": "2020-12-22T13:25:22.492644Z",
     "start_time": "2020-12-22T13:25:22.488521Z"
    }
   },
   "outputs": [
    {
     "name": "stdout",
     "output_type": "stream",
     "text": [
      "Answer part one: 32472\n"
     ]
    }
   ],
   "source": [
    "_, winning_deck = play_game(player_1, player_2)\n",
    "print(f\"Answer part one: {compute_score(winning_deck)}\")"
   ]
  },
  {
   "cell_type": "code",
   "execution_count": 4,
   "metadata": {
    "ExecuteTime": {
     "end_time": "2020-12-22T13:25:23.503390Z",
     "start_time": "2020-12-22T13:25:22.494687Z"
    }
   },
   "outputs": [
    {
     "name": "stdout",
     "output_type": "stream",
     "text": [
      "Answer part two: 36463\n"
     ]
    }
   ],
   "source": [
    "_, winning_deck = play_game(player_1, player_2, rec=True)\n",
    "print(f\"Answer part two: {compute_score(winning_deck)}\")"
   ]
  }
 ],
 "metadata": {
  "kernelspec": {
   "display_name": "Python 3",
   "language": "python",
   "name": "python3"
  },
  "language_info": {
   "codemirror_mode": {
    "name": "ipython",
    "version": 3
   },
   "file_extension": ".py",
   "mimetype": "text/x-python",
   "name": "python",
   "nbconvert_exporter": "python",
   "pygments_lexer": "ipython3",
   "version": "3.9.0+"
  }
 },
 "nbformat": 4,
 "nbformat_minor": 4
}
