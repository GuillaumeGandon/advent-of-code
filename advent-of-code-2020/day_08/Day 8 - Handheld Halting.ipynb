{
 "cells": [
  {
   "cell_type": "code",
   "execution_count": 1,
   "metadata": {
    "ExecuteTime": {
     "end_time": "2020-12-09T11:25:39.333132Z",
     "start_time": "2020-12-09T11:25:39.330847Z"
    }
   },
   "outputs": [],
   "source": [
    "with open('input.txt', 'r') as f:\n",
    "    instructions = f.read().splitlines()"
   ]
  },
  {
   "cell_type": "code",
   "execution_count": 2,
   "metadata": {
    "ExecuteTime": {
     "end_time": "2020-12-09T11:25:39.339153Z",
     "start_time": "2020-12-09T11:25:39.334270Z"
    }
   },
   "outputs": [
    {
     "name": "stdout",
     "output_type": "stream",
     "text": [
      "Answer part one: 1584\n"
     ]
    }
   ],
   "source": [
    "def compute(instructions):\n",
    "    i = 0\n",
    "    passed_instructions = []\n",
    "    accumulator = 0\n",
    "    while i < len(instructions):\n",
    "        if i in passed_instructions:\n",
    "            return False, accumulator\n",
    "        else:\n",
    "            passed_instructions.append(i)\n",
    "\n",
    "        operation, argument = instructions[i].split()\n",
    "        if operation == 'acc':\n",
    "            accumulator += int(argument)\n",
    "            i += 1\n",
    "        elif operation == 'jmp':\n",
    "            i += int(argument)\n",
    "        else:\n",
    "            i += 1\n",
    "\n",
    "    return True, accumulator\n",
    "\n",
    "\n",
    "status, accumulator = compute(instructions)\n",
    "print(f\"Answer part one: {accumulator}\")"
   ]
  },
  {
   "cell_type": "code",
   "execution_count": 3,
   "metadata": {
    "ExecuteTime": {
     "end_time": "2020-12-09T11:25:39.372747Z",
     "start_time": "2020-12-09T11:25:39.340246Z"
    }
   },
   "outputs": [
    {
     "name": "stdout",
     "output_type": "stream",
     "text": [
      "Answer part two: 920\n"
     ]
    }
   ],
   "source": [
    "def instructions_generator():\n",
    "    for i in range(len(instructions)):\n",
    "        operation, argument = instructions[i].split()\n",
    "        test_instructions = instructions.copy()\n",
    "        if operation == 'nop':\n",
    "            test_instructions[i] = 'jmp ' + argument\n",
    "            yield test_instructions\n",
    "        elif operation == 'jmp':\n",
    "            test_instructions[i] = 'nop ' + argument\n",
    "            yield test_instructions\n",
    "\n",
    "\n",
    "answer_part_two = None\n",
    "for test_instructions in instructions_generator():\n",
    "    status, acc = compute(test_instructions)\n",
    "    if status:\n",
    "        answer_part_two = acc\n",
    "        break\n",
    "\n",
    "print(f\"Answer part two: {answer_part_two}\")"
   ]
  }
 ],
 "metadata": {
  "kernelspec": {
   "display_name": "Python 3",
   "language": "python",
   "name": "python3"
  },
  "language_info": {
   "codemirror_mode": {
    "name": "ipython",
    "version": 3
   },
   "file_extension": ".py",
   "mimetype": "text/x-python",
   "name": "python",
   "nbconvert_exporter": "python",
   "pygments_lexer": "ipython3",
   "version": "3.8.5"
  }
 },
 "nbformat": 4,
 "nbformat_minor": 4
}
