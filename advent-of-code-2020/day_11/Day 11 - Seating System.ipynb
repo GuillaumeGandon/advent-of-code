{
 "cells": [
  {
   "cell_type": "code",
   "execution_count": 1,
   "metadata": {
    "ExecuteTime": {
     "end_time": "2020-12-12T06:39:38.968500Z",
     "start_time": "2020-12-12T06:39:38.965494Z"
    }
   },
   "outputs": [],
   "source": [
    "from copy import deepcopy\n",
    "\n",
    "with open('input.txt', 'r') as f:\n",
    "    seats_map = [list(line) for line in f.read().splitlines()]"
   ]
  },
  {
   "cell_type": "code",
   "execution_count": 2,
   "metadata": {
    "ExecuteTime": {
     "end_time": "2020-12-12T06:39:38.979112Z",
     "start_time": "2020-12-12T06:39:38.969980Z"
    }
   },
   "outputs": [],
   "source": [
    "def get_adjacent(s, x, y):\n",
    "    count = 0\n",
    "    max_y = len(s) - 1\n",
    "    max_x = len(s[0]) - 1\n",
    "\n",
    "    if y > 0:\n",
    "        if x > 0 and s[y - 1][x - 1] == '#':\n",
    "            count += 1\n",
    "        if s[y - 1][x] == '#':\n",
    "            count += 1\n",
    "        if x < max_x and s[y - 1][x + 1] == '#':\n",
    "            count += 1\n",
    "\n",
    "    if x > 0 and s[y][x - 1] == '#':\n",
    "        count += 1\n",
    "    if x < max_x and s[y][x + 1] == '#':\n",
    "        count += 1\n",
    "\n",
    "    if y < max_y:\n",
    "        if x > 0 and s[y + 1][x - 1] == '#':\n",
    "            count += 1\n",
    "        if s[y + 1][x] == '#':\n",
    "            count += 1\n",
    "        if x < max_x and s[y + 1][x + 1] == '#':\n",
    "            count += 1\n",
    "\n",
    "    return count\n",
    "\n",
    "\n",
    "def compute(seats_map):\n",
    "    new_seats_map = deepcopy(seats_map)\n",
    "    for y in range(len(seats_map)):\n",
    "        for x in range(len(seats_map[0])):\n",
    "            if seats_map[y][x] == 'L' and get_adjacent(seats_map, x, y) == 0:\n",
    "                new_seats_map[y][x] = '#'\n",
    "            elif seats_map[y][x] == '#' and get_adjacent(seats_map, x, y) >= 4:\n",
    "                new_seats_map[y][x] = 'L'\n",
    "    return new_seats_map"
   ]
  },
  {
   "cell_type": "code",
   "execution_count": 3,
   "metadata": {
    "ExecuteTime": {
     "end_time": "2020-12-12T06:39:39.960725Z",
     "start_time": "2020-12-12T06:39:38.980234Z"
    }
   },
   "outputs": [
    {
     "name": "stdout",
     "output_type": "stream",
     "text": [
      "Answer part one: 2344\n"
     ]
    }
   ],
   "source": [
    "seats_map_tmp = deepcopy(seats_map)\n",
    "while True:\n",
    "    next_seats_map = compute(seats_map_tmp)\n",
    "\n",
    "    if next_seats_map == seats_map_tmp:\n",
    "        break\n",
    "    seats_map_tmp = deepcopy(next_seats_map)\n",
    "\n",
    "answer_part_one = sum([line.count('#') for line in seats_map_tmp])\n",
    "print(f\"Answer part one: {answer_part_one}\")"
   ]
  },
  {
   "cell_type": "code",
   "execution_count": 4,
   "metadata": {
    "ExecuteTime": {
     "end_time": "2020-12-12T06:39:39.969671Z",
     "start_time": "2020-12-12T06:39:39.962255Z"
    }
   },
   "outputs": [],
   "source": [
    "def get_first(s, x, y):\n",
    "    count = 0\n",
    "    max_y = len(s)\n",
    "    max_x = len(s[0])\n",
    "    for yy, xx in zip(range(y - 1, -1, -1), range(x - 1, -1, -1)):\n",
    "        if s[yy][xx] == \"#\":\n",
    "            count += 1\n",
    "            break\n",
    "        if s[yy][xx] == \"L\":\n",
    "            break\n",
    "    for yy, xx in zip(range(y - 1, -1, -1), range(x + 1, max_x)):\n",
    "        if s[yy][xx] == \"#\":\n",
    "            count += 1\n",
    "            break\n",
    "        if s[yy][xx] == \"L\":\n",
    "            break\n",
    "\n",
    "    for xx in range(x - 1, -1, -1):\n",
    "        if s[y][xx] == \"#\":\n",
    "            count += 1\n",
    "            break\n",
    "        if s[y][xx] == \"L\":\n",
    "            break\n",
    "    for xx in range(x + 1, max_x):\n",
    "        if s[y][xx] == \"#\":\n",
    "            count += 1\n",
    "            break\n",
    "        if s[y][xx] == \"L\":\n",
    "            break\n",
    "\n",
    "    for yy in range(y - 1, -1, -1):\n",
    "        if s[yy][x] == \"#\":\n",
    "            count += 1\n",
    "            break\n",
    "        if s[yy][x] == \"L\":\n",
    "            break\n",
    "    for yy in range(y + 1, max_y):\n",
    "        if s[yy][x] == \"#\":\n",
    "            count += 1\n",
    "            break\n",
    "        if s[yy][x] == \"L\":\n",
    "            break\n",
    "\n",
    "    for yy, xx in zip(range(y + 1, max_y), range(x - 1, -1, -1)):\n",
    "        if s[yy][xx] == \"#\":\n",
    "            count += 1\n",
    "            break\n",
    "        if s[yy][xx] == \"L\":\n",
    "            break\n",
    "    for yy, xx in zip(range(y + 1, max_y), range(x + 1, max_x)):\n",
    "        if s[yy][xx] == \"#\":\n",
    "            count += 1\n",
    "            break\n",
    "        if s[yy][xx] == \"L\":\n",
    "            break\n",
    "\n",
    "    return count\n",
    "\n",
    "\n",
    "def compute2(seats_map):\n",
    "    new_seats_map = deepcopy(seats_map)\n",
    "    for y in range(len(seats_map)):\n",
    "        for x in range(len(seats_map[y])):\n",
    "            if seats_map[y][x] == 'L' and get_first(seats_map, x, y) == 0:\n",
    "                new_seats_map[y][x] = '#'\n",
    "            elif seats_map[y][x] == '#' and get_first(seats_map, x, y) >= 5:\n",
    "                new_seats_map[y][x] = 'L'\n",
    "    return new_seats_map"
   ]
  },
  {
   "cell_type": "code",
   "execution_count": 5,
   "metadata": {
    "ExecuteTime": {
     "end_time": "2020-12-12T06:39:42.196076Z",
     "start_time": "2020-12-12T06:39:39.970831Z"
    }
   },
   "outputs": [
    {
     "name": "stdout",
     "output_type": "stream",
     "text": [
      "Answer part two: 2076\n"
     ]
    }
   ],
   "source": [
    "seats_map_tmp = deepcopy(seats_map)\n",
    "while True:\n",
    "    next_seats_map = compute2(seats_map_tmp)\n",
    "    if next_seats_map == seats_map_tmp:\n",
    "        break\n",
    "    seats_map_tmp = deepcopy(next_seats_map)\n",
    "\n",
    "answer_part_two = sum([line.count('#') for line in seats_map_tmp])\n",
    "print(f\"Answer part two: {answer_part_two}\")"
   ]
  }
 ],
 "metadata": {
  "kernelspec": {
   "display_name": "Python 3",
   "language": "python",
   "name": "python3"
  },
  "language_info": {
   "codemirror_mode": {
    "name": "ipython",
    "version": 3
   },
   "file_extension": ".py",
   "mimetype": "text/x-python",
   "name": "python",
   "nbconvert_exporter": "python",
   "pygments_lexer": "ipython3",
   "version": "3.9.0+"
  }
 },
 "nbformat": 4,
 "nbformat_minor": 4
}
