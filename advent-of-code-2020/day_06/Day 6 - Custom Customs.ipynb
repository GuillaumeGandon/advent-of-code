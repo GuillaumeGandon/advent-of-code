{
 "cells": [
  {
   "cell_type": "code",
   "execution_count": 1,
   "metadata": {
    "ExecuteTime": {
     "end_time": "2020-12-06T15:37:40.335456Z",
     "start_time": "2020-12-06T15:37:40.333013Z"
    }
   },
   "outputs": [],
   "source": [
    "with open('input.txt', 'r') as f:\n",
    "    group_answers = f.read().strip().split('\\n\\n')"
   ]
  },
  {
   "cell_type": "code",
   "execution_count": 2,
   "metadata": {
    "ExecuteTime": {
     "end_time": "2020-12-06T15:37:40.340787Z",
     "start_time": "2020-12-06T15:37:40.336811Z"
    }
   },
   "outputs": [
    {
     "name": "stdout",
     "output_type": "stream",
     "text": [
      "Answer part one: 6351\n"
     ]
    }
   ],
   "source": [
    "anyone_answered = [set(group_answer.replace('\\n', ''))\n",
    "                   for group_answer in group_answers]\n",
    "print(f'Answer part one: {sum(map(len, anyone_answered))}')"
   ]
  },
  {
   "cell_type": "code",
   "execution_count": 3,
   "metadata": {
    "ExecuteTime": {
     "end_time": "2020-12-06T15:37:40.346949Z",
     "start_time": "2020-12-06T15:37:40.341832Z"
    }
   },
   "outputs": [
    {
     "name": "stdout",
     "output_type": "stream",
     "text": [
      "Answer part two: 3143\n"
     ]
    }
   ],
   "source": [
    "everyone_answered = [\n",
    "    set.intersection(*map(set, group_answer.split('\\n')))\n",
    "    for group_answer in group_answers\n",
    "]\n",
    "print(f'Answer part two: {sum(map(len, everyone_answered))}')"
   ]
  }
 ],
 "metadata": {
  "kernelspec": {
   "display_name": "Python 3",
   "language": "python",
   "name": "python3"
  },
  "language_info": {
   "codemirror_mode": {
    "name": "ipython",
    "version": 3
   },
   "file_extension": ".py",
   "mimetype": "text/x-python",
   "name": "python",
   "nbconvert_exporter": "python",
   "pygments_lexer": "ipython3",
   "version": "3.8.5"
  }
 },
 "nbformat": 4,
 "nbformat_minor": 4
}
