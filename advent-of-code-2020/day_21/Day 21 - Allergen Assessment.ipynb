{
 "cells": [
  {
   "cell_type": "code",
   "execution_count": 1,
   "metadata": {
    "ExecuteTime": {
     "end_time": "2020-12-22T13:38:48.705020Z",
     "start_time": "2020-12-22T13:38:48.700922Z"
    }
   },
   "outputs": [],
   "source": [
    "with open('input.txt') as f:\n",
    "    data = f.read().splitlines()\n",
    "\n",
    "ingredients = [set(line.split(' (contains ')[0].split(' ')) for line in data]\n",
    "allergens = [line.split(' (contains ')[1].replace(')', '').split(', ') for line in data]\n",
    "all_ingredients = [_ for line in ingredients for _ in line]"
   ]
  },
  {
   "cell_type": "code",
   "execution_count": 2,
   "metadata": {
    "ExecuteTime": {
     "end_time": "2020-12-22T13:38:48.711965Z",
     "start_time": "2020-12-22T13:38:48.706963Z"
    }
   },
   "outputs": [
    {
     "name": "stdout",
     "output_type": "stream",
     "text": [
      "Answer part one: 2724\n"
     ]
    }
   ],
   "source": [
    "d = {}\n",
    "for i, a in zip(ingredients, allergens):\n",
    "    for k in a:\n",
    "        if k in d:\n",
    "            d[k] = d[k].intersection(i)\n",
    "        else:\n",
    "            d[k] = i\n",
    "\n",
    "probable_allergen_ingredient = set.union(*list(d.values()))\n",
    "no_allergen_ingredients = [i for i in all_ingredients if i not in probable_allergen_ingredient]\n",
    "print(f\"Answer part one: {len(no_allergen_ingredients)}\")"
   ]
  },
  {
   "cell_type": "code",
   "execution_count": 3,
   "metadata": {
    "ExecuteTime": {
     "end_time": "2020-12-22T13:38:48.717345Z",
     "start_time": "2020-12-22T13:38:48.713642Z"
    }
   },
   "outputs": [
    {
     "name": "stdout",
     "output_type": "stream",
     "text": [
      "Answer part two: xlxknk,cskbmx,cjdmk,bmhn,jrmr,tzxcmr,fmgxh,fxzh\n"
     ]
    }
   ],
   "source": [
    "dd = {}\n",
    "while True:\n",
    "    for k, v in d.items():\n",
    "        tmp = [_ for _ in list(v) if _ not in dd]\n",
    "        if len(tmp) == 1:\n",
    "            dd[tmp[0]] = k\n",
    "    if all(k in dd for k in probable_allergen_ingredient):\n",
    "        break\n",
    "\n",
    "dd_sorted = {k: v for k, v in sorted(dd.items(), key=lambda item: item[1])}\n",
    "can_in = list(dd_sorted.keys())\n",
    "print(f\"Answer part two: {','.join(can_in)}\")"
   ]
  }
 ],
 "metadata": {
  "kernelspec": {
   "display_name": "Python 3",
   "language": "python",
   "name": "python3"
  },
  "language_info": {
   "codemirror_mode": {
    "name": "ipython",
    "version": 3
   },
   "file_extension": ".py",
   "mimetype": "text/x-python",
   "name": "python",
   "nbconvert_exporter": "python",
   "pygments_lexer": "ipython3",
   "version": "3.9.0+"
  }
 },
 "nbformat": 4,
 "nbformat_minor": 4
}
