{
 "cells": [
  {
   "cell_type": "code",
   "execution_count": 1,
   "metadata": {
    "ExecuteTime": {
     "end_time": "2020-12-15T12:18:29.370410Z",
     "start_time": "2020-12-15T12:18:29.366993Z"
    }
   },
   "outputs": [],
   "source": [
    "with open('input.txt', 'r') as f:\n",
    "    data = [\n",
    "        line.replace('mem[', '').replace(']', '').split(' = ')\n",
    "        for line in f.read().splitlines()\n",
    "    ]"
   ]
  },
  {
   "cell_type": "code",
   "execution_count": 2,
   "metadata": {
    "ExecuteTime": {
     "end_time": "2020-12-15T12:18:29.380602Z",
     "start_time": "2020-12-15T12:18:29.372207Z"
    }
   },
   "outputs": [
    {
     "name": "stdout",
     "output_type": "stream",
     "text": [
      "Answer part one: 8332632930672\n"
     ]
    }
   ],
   "source": [
    "mask = None\n",
    "d = {}\n",
    "for line in data:\n",
    "    if line[0] == 'mask':\n",
    "        mask = line[1]\n",
    "    else:\n",
    "        bin_value = bin(int(line[1])).replace('0b', '')\n",
    "        bin_value = '0' * (len(mask) - len(bin_value)) + bin_value\n",
    "        res = ''\n",
    "        for m, v in zip(mask, bin_value):\n",
    "            if m != 'X':\n",
    "                res += m\n",
    "            else:\n",
    "                res += v\n",
    "        d[line[0]] = res\n",
    "\n",
    "print(f'Answer part one: {sum(int(v, 2) for v in d.values())}')"
   ]
  },
  {
   "cell_type": "code",
   "execution_count": 3,
   "metadata": {
    "ExecuteTime": {
     "end_time": "2020-12-15T12:18:29.566027Z",
     "start_time": "2020-12-15T12:18:29.382044Z"
    }
   },
   "outputs": [
    {
     "name": "stdout",
     "output_type": "stream",
     "text": [
      "Answer part two: 4753238784664\n"
     ]
    }
   ],
   "source": [
    "def comb(s, i=0):\n",
    "    if i == len(s):\n",
    "        return [s]\n",
    "    else:\n",
    "        if s[i] == 'X':\n",
    "            return comb(s[:i] + '0' + s[i + 1:], i + 1) + comb(\n",
    "                s[:i] + '1' + s[i + 1:], i + 1)\n",
    "        else:\n",
    "            return comb(s, i + 1)\n",
    "\n",
    "\n",
    "mask = None\n",
    "d = {}\n",
    "for line in data:\n",
    "    if line[0] == 'mask':\n",
    "        mask = line[1]\n",
    "    else:\n",
    "        bin_value = bin(int(line[0])).replace('0b', '')\n",
    "        bin_value = '0' * (len(mask) - len(bin_value)) + bin_value\n",
    "        res = ''\n",
    "        for m, v in zip(mask, bin_value):\n",
    "            if m == '0':\n",
    "                res += v\n",
    "            elif m == '1':\n",
    "                res += m\n",
    "            else:\n",
    "                res += m\n",
    "\n",
    "        addr = [int(v, 2) for v in comb(res)]\n",
    "        for ad in addr:\n",
    "            d[ad] = int(line[1])\n",
    "\n",
    "print(f'Answer part two: {sum(v for v in d.values())}')"
   ]
  }
 ],
 "metadata": {
  "kernelspec": {
   "display_name": "Python 3",
   "language": "python",
   "name": "python3"
  },
  "language_info": {
   "codemirror_mode": {
    "name": "ipython",
    "version": 3
   },
   "file_extension": ".py",
   "mimetype": "text/x-python",
   "name": "python",
   "nbconvert_exporter": "python",
   "pygments_lexer": "ipython3",
   "version": "3.9.0+"
  }
 },
 "nbformat": 4,
 "nbformat_minor": 4
}
