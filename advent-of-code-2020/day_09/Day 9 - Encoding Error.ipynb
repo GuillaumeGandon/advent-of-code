{
 "cells": [
  {
   "cell_type": "code",
   "execution_count": 1,
   "metadata": {
    "ExecuteTime": {
     "end_time": "2020-12-09T11:01:13.495253Z",
     "start_time": "2020-12-09T11:01:13.492507Z"
    }
   },
   "outputs": [],
   "source": [
    "from itertools import combinations\n",
    "\n",
    "with open('input.txt', 'r') as f:\n",
    "    numbers = list(map(int, f.read().splitlines()))"
   ]
  },
  {
   "cell_type": "code",
   "execution_count": 2,
   "metadata": {
    "ExecuteTime": {
     "end_time": "2020-12-09T11:01:13.502873Z",
     "start_time": "2020-12-09T11:01:13.496700Z"
    }
   },
   "outputs": [
    {
     "name": "stdout",
     "output_type": "stream",
     "text": [
      "Answer part one: 32321523\n"
     ]
    }
   ],
   "source": [
    "answer_part_one = None\n",
    "for i in range(25, len(numbers)):\n",
    "    if numbers[i] not in map(sum, combinations(numbers[i - 25:i], 2)):\n",
    "        answer_part_one = numbers[i]\n",
    "        break\n",
    "\n",
    "print(f\"Answer part one: {answer_part_one}\")"
   ]
  },
  {
   "cell_type": "code",
   "execution_count": 3,
   "metadata": {
    "ExecuteTime": {
     "end_time": "2020-12-09T11:01:13.620095Z",
     "start_time": "2020-12-09T11:01:13.503984Z"
    }
   },
   "outputs": [
    {
     "name": "stdout",
     "output_type": "stream",
     "text": [
      "Answer part two: 4794981\n"
     ]
    }
   ],
   "source": [
    "def find_encryption_weakness():\n",
    "    for i in range(len(numbers)):\n",
    "        for j in range(i, len(numbers)):\n",
    "            sub = numbers[i:j]\n",
    "            if sum(sub) > answer_part_one:\n",
    "                break\n",
    "            elif sum(sub) == answer_part_one:\n",
    "                return min(sub) + max(sub)\n",
    "\n",
    "\n",
    "print(f\"Answer part two: {find_encryption_weakness()}\")"
   ]
  }
 ],
 "metadata": {
  "kernelspec": {
   "display_name": "Python 3",
   "language": "python",
   "name": "python3"
  },
  "language_info": {
   "codemirror_mode": {
    "name": "ipython",
    "version": 3
   },
   "file_extension": ".py",
   "mimetype": "text/x-python",
   "name": "python",
   "nbconvert_exporter": "python",
   "pygments_lexer": "ipython3",
   "version": "3.8.5"
  }
 },
 "nbformat": 4,
 "nbformat_minor": 4
}
