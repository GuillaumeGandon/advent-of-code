{
 "cells": [
  {
   "cell_type": "code",
   "execution_count": 1,
   "metadata": {
    "ExecuteTime": {
     "end_time": "2020-12-18T16:47:47.296330Z",
     "start_time": "2020-12-18T16:47:47.294184Z"
    }
   },
   "outputs": [],
   "source": [
    "with open('input.txt', 'r') as f:\n",
    "    data = f.read().splitlines()"
   ]
  },
  {
   "cell_type": "code",
   "execution_count": 2,
   "metadata": {
    "ExecuteTime": {
     "end_time": "2020-12-18T16:47:47.301276Z",
     "start_time": "2020-12-18T16:47:47.297673Z"
    }
   },
   "outputs": [],
   "source": [
    "class MyInt:\n",
    "    def __init__(self, value):\n",
    "        self.value = value\n",
    "\n",
    "    def __add__(self, other):\n",
    "        return MyInt(self.value + other.value)\n",
    "\n",
    "    def __sub__(self, other):\n",
    "        return MyInt(self.value * other.value)\n",
    "\n",
    "    def __mul__(self, other):\n",
    "        return MyInt(self.value + other.value)\n",
    "\n",
    "    def __str__(self):\n",
    "        return str(self.value)\n",
    "\n",
    "\n",
    "def compute(line, part_two=False):\n",
    "    exp = ''\n",
    "    for c in line:\n",
    "        if str.isdigit(c):\n",
    "            exp += f\"MyInt({c})\"\n",
    "        else:\n",
    "            exp += c\n",
    "    exp = exp.replace('*', '-')\n",
    "    if part_two:\n",
    "        exp = exp.replace('+', '*')\n",
    "    return eval(exp).value"
   ]
  },
  {
   "cell_type": "code",
   "execution_count": 3,
   "metadata": {
    "ExecuteTime": {
     "end_time": "2020-12-18T16:47:47.318701Z",
     "start_time": "2020-12-18T16:47:47.302357Z"
    }
   },
   "outputs": [
    {
     "name": "stdout",
     "output_type": "stream",
     "text": [
      "Answer part one: 45283905029161\n"
     ]
    }
   ],
   "source": [
    "print(f\"Answer part one: {sum(compute(line) for line in data)}\")"
   ]
  },
  {
   "cell_type": "code",
   "execution_count": 4,
   "metadata": {
    "ExecuteTime": {
     "end_time": "2020-12-18T16:47:47.336612Z",
     "start_time": "2020-12-18T16:47:47.320021Z"
    }
   },
   "outputs": [
    {
     "name": "stdout",
     "output_type": "stream",
     "text": [
      "Answer part two: 216975281211165\n"
     ]
    }
   ],
   "source": [
    "print(f\"Answer part two: {sum(compute(line, part_two=True) for line in data)}\")"
   ]
  }
 ],
 "metadata": {
  "kernelspec": {
   "display_name": "Python 3",
   "language": "python",
   "name": "python3"
  },
  "language_info": {
   "codemirror_mode": {
    "name": "ipython",
    "version": 3
   },
   "file_extension": ".py",
   "mimetype": "text/x-python",
   "name": "python",
   "nbconvert_exporter": "python",
   "pygments_lexer": "ipython3",
   "version": "3.9.0+"
  }
 },
 "nbformat": 4,
 "nbformat_minor": 4
}
