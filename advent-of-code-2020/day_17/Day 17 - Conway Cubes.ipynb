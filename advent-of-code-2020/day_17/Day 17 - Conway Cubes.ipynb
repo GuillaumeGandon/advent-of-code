{
 "cells": [
  {
   "cell_type": "code",
   "execution_count": 1,
   "metadata": {
    "ExecuteTime": {
     "end_time": "2020-12-17T16:58:44.087712Z",
     "start_time": "2020-12-17T16:58:44.085170Z"
    },
    "code_folding": []
   },
   "outputs": [],
   "source": [
    "from itertools import product\n",
    "\n",
    "with open('input.txt', 'r') as f:\n",
    "    initial_active_cubes = set(\n",
    "        (x, y)\n",
    "        for y, line in enumerate(f.read().splitlines())\n",
    "        for x, c in enumerate(line)\n",
    "        if c == '#'\n",
    "    )"
   ]
  },
  {
   "cell_type": "code",
   "execution_count": 2,
   "metadata": {
    "ExecuteTime": {
     "end_time": "2020-12-17T16:58:44.094683Z",
     "start_time": "2020-12-17T16:58:44.089062Z"
    }
   },
   "outputs": [],
   "source": [
    "def neighbours(cube, dim):\n",
    "    return set(\n",
    "        tuple(sum(p) for p in zip(cube, offset))\n",
    "        for offset\n",
    "        in product([-1, 0, 1], repeat=dim)\n",
    "        if offset != (0,) * dim\n",
    "    )\n",
    "\n",
    "\n",
    "def apply_rule(cube, active_cubes, dim):\n",
    "    nb_active_neighbours = len(set.intersection(active_cubes, neighbours(cube, dim)))\n",
    "    if nb_active_neighbours == 3:\n",
    "        return True\n",
    "    elif nb_active_neighbours == 2 and cube in active_cubes:\n",
    "        return True\n",
    "    return False\n",
    "\n",
    "\n",
    "def compute(dim, n_cycle=6):\n",
    "    active_cubes = set((x, y) + (0,) * (dim-2) for x, y in initial_active_cubes)\n",
    "    \n",
    "    for _ in range(n_cycle):\n",
    "        active_cubes = set(\n",
    "            cube\n",
    "            for cube\n",
    "            in set.union(*[neighbours(active_cube, dim) for active_cube in active_cubes])\n",
    "            if apply_rule(cube, active_cubes, dim)\n",
    "        )\n",
    "    \n",
    "    return active_cubes"
   ]
  },
  {
   "cell_type": "code",
   "execution_count": 3,
   "metadata": {
    "ExecuteTime": {
     "end_time": "2020-12-17T16:58:44.236328Z",
     "start_time": "2020-12-17T16:58:44.096940Z"
    }
   },
   "outputs": [
    {
     "name": "stdout",
     "output_type": "stream",
     "text": [
      "Answer part one: 255\n"
     ]
    }
   ],
   "source": [
    "print(f\"Answer part one: {len(compute(dim=3))}\")"
   ]
  },
  {
   "cell_type": "code",
   "execution_count": 4,
   "metadata": {
    "ExecuteTime": {
     "end_time": "2020-12-17T16:58:48.518596Z",
     "start_time": "2020-12-17T16:58:44.237493Z"
    }
   },
   "outputs": [
    {
     "name": "stdout",
     "output_type": "stream",
     "text": [
      "Answer part two: 2340\n"
     ]
    }
   ],
   "source": [
    "print(f\"Answer part two: {len(compute(dim=4))}\")"
   ]
  }
 ],
 "metadata": {
  "kernelspec": {
   "display_name": "Python 3",
   "language": "python",
   "name": "python3"
  },
  "language_info": {
   "codemirror_mode": {
    "name": "ipython",
    "version": 3
   },
   "file_extension": ".py",
   "mimetype": "text/x-python",
   "name": "python",
   "nbconvert_exporter": "python",
   "pygments_lexer": "ipython3",
   "version": "3.9.0+"
  }
 },
 "nbformat": 4,
 "nbformat_minor": 4
}
