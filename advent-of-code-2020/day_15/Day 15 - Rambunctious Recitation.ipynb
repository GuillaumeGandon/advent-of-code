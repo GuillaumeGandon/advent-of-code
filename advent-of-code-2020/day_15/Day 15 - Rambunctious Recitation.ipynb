{
 "cells": [
  {
   "cell_type": "code",
   "execution_count": 1,
   "metadata": {
    "ExecuteTime": {
     "end_time": "2020-12-15T11:40:19.623906Z",
     "start_time": "2020-12-15T11:40:19.619871Z"
    }
   },
   "outputs": [],
   "source": [
    "nb = [17, 1, 3, 16, 19, 0]\n",
    "\n",
    "\n",
    "def compute(nb, n):\n",
    "    last = nb[-1]\n",
    "    d = {k: i + 1 for i, k in enumerate(nb[:-1])}\n",
    "    for i in range(len(nb) + 1, n + 1):\n",
    "        if last not in d:\n",
    "            tmp = 0\n",
    "        else:\n",
    "            tmp = i - 1 - d[last]\n",
    "        d[last] = i - 1\n",
    "        last = tmp\n",
    "    return last"
   ]
  },
  {
   "cell_type": "code",
   "execution_count": 2,
   "metadata": {
    "ExecuteTime": {
     "end_time": "2020-12-15T11:40:19.629427Z",
     "start_time": "2020-12-15T11:40:19.625827Z"
    }
   },
   "outputs": [
    {
     "name": "stdout",
     "output_type": "stream",
     "text": [
      "Answer part one: 694\n"
     ]
    }
   ],
   "source": [
    "print(f\"Answer part one: {compute(nb, 2020)}\")"
   ]
  },
  {
   "cell_type": "code",
   "execution_count": 3,
   "metadata": {
    "ExecuteTime": {
     "end_time": "2020-12-15T11:40:29.606447Z",
     "start_time": "2020-12-15T11:40:19.630731Z"
    }
   },
   "outputs": [
    {
     "name": "stdout",
     "output_type": "stream",
     "text": [
      "Answer part two: 21768614\n"
     ]
    }
   ],
   "source": [
    "print(f\"Answer part two: {compute(nb, 30_000_000)}\")"
   ]
  }
 ],
 "metadata": {
  "kernelspec": {
   "display_name": "Python 3",
   "language": "python",
   "name": "python3"
  },
  "language_info": {
   "codemirror_mode": {
    "name": "ipython",
    "version": 3
   },
   "file_extension": ".py",
   "mimetype": "text/x-python",
   "name": "python",
   "nbconvert_exporter": "python",
   "pygments_lexer": "ipython3",
   "version": "3.9.0+"
  }
 },
 "nbformat": 4,
 "nbformat_minor": 4
}
