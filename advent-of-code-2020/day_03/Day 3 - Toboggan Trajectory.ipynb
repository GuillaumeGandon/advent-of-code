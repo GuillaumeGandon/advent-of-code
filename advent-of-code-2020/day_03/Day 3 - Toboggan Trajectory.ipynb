{
 "cells": [
  {
   "cell_type": "code",
   "execution_count": 1,
   "metadata": {
    "ExecuteTime": {
     "end_time": "2020-12-03T11:57:40.320221Z",
     "start_time": "2020-12-03T11:57:40.314289Z"
    },
    "code_folding": []
   },
   "outputs": [],
   "source": [
    "from math import prod\n",
    "\n",
    "with open('input.txt', 'r') as f:\n",
    "    trees_map = f.read().splitlines()\n",
    "\n",
    "\n",
    "def count_encountered_trees(trees_map, right, down):\n",
    "    pos_x = 0\n",
    "    tree_count = 0\n",
    "\n",
    "    for i in range(0, len(trees_map), down):\n",
    "        if trees_map[i][pos_x] == '#':\n",
    "            tree_count += 1\n",
    "        pos_x = (pos_x + right) % len(trees_map[0])\n",
    "\n",
    "    return tree_count"
   ]
  },
  {
   "cell_type": "code",
   "execution_count": 2,
   "metadata": {
    "ExecuteTime": {
     "end_time": "2020-12-03T11:57:40.324025Z",
     "start_time": "2020-12-03T11:57:40.321849Z"
    }
   },
   "outputs": [
    {
     "name": "stdout",
     "output_type": "stream",
     "text": [
      "Answer part one: 282\n"
     ]
    }
   ],
   "source": [
    "tree_count_part_one = count_encountered_trees(trees_map, 3, 1)\n",
    "print(f'Answer part one: {tree_count_part_one}')"
   ]
  },
  {
   "cell_type": "code",
   "execution_count": 3,
   "metadata": {
    "ExecuteTime": {
     "end_time": "2020-12-03T11:57:40.329121Z",
     "start_time": "2020-12-03T11:57:40.325006Z"
    }
   },
   "outputs": [
    {
     "name": "stdout",
     "output_type": "stream",
     "text": [
      "Answer part two: 958815792\n"
     ]
    }
   ],
   "source": [
    "slopes = [\n",
    "    (1, 1),\n",
    "    (3, 1),\n",
    "    (5, 1),\n",
    "    (7, 1),\n",
    "    (1, 2),\n",
    "]\n",
    "\n",
    "tree_count_part_two = prod([count_encountered_trees(trees_map, *slope) for slope in slopes])\n",
    "print(f'Answer part two: {tree_count_part_two}')"
   ]
  }
 ],
 "metadata": {
  "kernelspec": {
   "display_name": "Python 3",
   "language": "python",
   "name": "python3"
  },
  "language_info": {
   "codemirror_mode": {
    "name": "ipython",
    "version": 3
   },
   "file_extension": ".py",
   "mimetype": "text/x-python",
   "name": "python",
   "nbconvert_exporter": "python",
   "pygments_lexer": "ipython3",
   "version": "3.8.5"
  }
 },
 "nbformat": 4,
 "nbformat_minor": 4
}
