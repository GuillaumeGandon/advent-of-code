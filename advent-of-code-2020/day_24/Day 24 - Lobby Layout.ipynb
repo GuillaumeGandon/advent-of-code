{
 "cells": [
  {
   "cell_type": "code",
   "execution_count": 1,
   "metadata": {
    "ExecuteTime": {
     "end_time": "2020-12-24T10:16:46.178113Z",
     "start_time": "2020-12-24T10:16:46.175795Z"
    }
   },
   "outputs": [],
   "source": [
    "with open('input.txt') as f:\n",
    "    data = f.read().splitlines()"
   ]
  },
  {
   "cell_type": "code",
   "execution_count": 2,
   "metadata": {
    "ExecuteTime": {
     "end_time": "2020-12-24T10:16:46.182284Z",
     "start_time": "2020-12-24T10:16:46.180019Z"
    }
   },
   "outputs": [],
   "source": [
    "coord = {\n",
    "    'e': 2 + 0j,\n",
    "    'se': 1 + 1j,\n",
    "    'sw': -1 + 1j,\n",
    "    'w': -2 + 0j,\n",
    "    'nw': -1 - 1j,\n",
    "    'ne': 1 - 1j\n",
    "}"
   ]
  },
  {
   "cell_type": "code",
   "execution_count": 3,
   "metadata": {
    "ExecuteTime": {
     "end_time": "2020-12-24T10:16:46.192482Z",
     "start_time": "2020-12-24T10:16:46.183393Z"
    }
   },
   "outputs": [],
   "source": [
    "flipped_tiles = []\n",
    "for line in data:\n",
    "    pos = 0 + 0j\n",
    "    i = 0\n",
    "    while line[i:i + 1]:\n",
    "        if line[i] in coord:\n",
    "            pos += coord[line[i]]\n",
    "            i += 1\n",
    "        else:\n",
    "            pos += coord[line[i:i + 2]]\n",
    "            i += 2\n",
    "    flipped_tiles.append(pos)\n",
    "    \n",
    "black_tiles = [\n",
    "    tile\n",
    "    for tile in flipped_tiles\n",
    "    if flipped_tiles.count(tile) == 1\n",
    "]\n",
    "print(f\"Answer part one: {len(black_tiles)}\")"
   ]
  },
  {
   "cell_type": "code",
   "execution_count": 4,
   "metadata": {
    "ExecuteTime": {
     "end_time": "2020-12-24T10:16:46.705293Z",
     "start_time": "2020-12-24T10:16:46.194139Z"
    }
   },
   "outputs": [
    {
     "name": "stdout",
     "output_type": "stream",
     "text": [
      "Answer part one: 3794\n"
     ]
    }
   ],
   "source": [
    "def count_adjacent_black_tiles(tile, black_tiles):\n",
    "    count = 0\n",
    "    for d in coord.values():\n",
    "        if tile + d in black_tiles:\n",
    "            count += 1\n",
    "    return count\n",
    "\n",
    "\n",
    "def get_white_tiles(black_tiles):\n",
    "    return set(tile + d for tile in black_tiles for d in coord.values()\n",
    "               if tile + d not in black_tiles)\n",
    "\n",
    "\n",
    "def compute(black_tiles, nb_days):\n",
    "    for _ in range(nb_days):\n",
    "        tmp_black_tiles = set()\n",
    "\n",
    "        for tile in black_tiles:\n",
    "            count = count_adjacent_black_tiles(tile, black_tiles)\n",
    "            if not (count == 0 or count > 2):\n",
    "                tmp_black_tiles.add(tile)\n",
    "\n",
    "        for tile in get_white_tiles(black_tiles):\n",
    "            count = count_adjacent_black_tiles(tile, black_tiles)\n",
    "            if count == 2 and tile not in tmp_black_tiles:\n",
    "                tmp_black_tiles.add(tile)\n",
    "\n",
    "        black_tiles = tmp_black_tiles\n",
    "\n",
    "    return black_tiles\n",
    "\n",
    "\n",
    "black_tiles_day_100 = compute(black_tiles, nb_days=100)\n",
    "print(f\"Answer part one: {len(black_tiles_day_100)}\")"
   ]
  }
 ],
 "metadata": {
  "kernelspec": {
   "display_name": "Python 3",
   "language": "python",
   "name": "python3"
  },
  "language_info": {
   "codemirror_mode": {
    "name": "ipython",
    "version": 3
   },
   "file_extension": ".py",
   "mimetype": "text/x-python",
   "name": "python",
   "nbconvert_exporter": "python",
   "pygments_lexer": "ipython3",
   "version": "3.9.0+"
  }
 },
 "nbformat": 4,
 "nbformat_minor": 4
}
