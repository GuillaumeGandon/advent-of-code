{
 "cells": [
  {
   "cell_type": "code",
   "execution_count": 1,
   "metadata": {
    "ExecuteTime": {
     "end_time": "2020-12-15T15:22:08.212245Z",
     "start_time": "2020-12-15T15:22:08.207741Z"
    }
   },
   "outputs": [],
   "source": [
    "with open('input.txt', 'r') as f:\n",
    "    time_str, bus_str = f.read().splitlines()\n",
    "    time = int(time_str)\n",
    "    buses = [(idx, int(bus)) for idx, bus in enumerate(bus_str.split(\",\"))\n",
    "             if bus != 'x']"
   ]
  },
  {
   "cell_type": "code",
   "execution_count": 2,
   "metadata": {
    "ExecuteTime": {
     "end_time": "2020-12-15T15:22:08.217438Z",
     "start_time": "2020-12-15T15:22:08.214320Z"
    }
   },
   "outputs": [
    {
     "name": "stdout",
     "output_type": "stream",
     "text": [
      "Answer part one: 3865\n"
     ]
    }
   ],
   "source": [
    "earliest_bus = None\n",
    "depart = float('inf')\n",
    "for _, bus in buses:\n",
    "    if time % bus == 0:\n",
    "        earliest_bus = bus\n",
    "        depart = time\n",
    "        break\n",
    "    elif (time // bus + 1) * bus < depart:\n",
    "        earliest_bus = bus\n",
    "        depart = (time // bus + 1) * bus\n",
    "\n",
    "print(f'Answer part one: {earliest_bus * (depart - time)}')"
   ]
  },
  {
   "cell_type": "code",
   "execution_count": 3,
   "metadata": {
    "ExecuteTime": {
     "end_time": "2020-12-15T15:22:08.222292Z",
     "start_time": "2020-12-15T15:22:08.218697Z"
    }
   },
   "outputs": [
    {
     "name": "stdout",
     "output_type": "stream",
     "text": [
      "Answer part two: 415579909629976\n"
     ]
    }
   ],
   "source": [
    "res_time, interval = 1, 1\n",
    "for idx, bus in buses:\n",
    "    while True:\n",
    "        if (res_time + idx) % bus == 0:\n",
    "            interval *= bus\n",
    "            break\n",
    "        res_time += interval\n",
    "\n",
    "print(f'Answer part two: {res_time}')"
   ]
  }
 ],
 "metadata": {
  "kernelspec": {
   "display_name": "Python 3",
   "language": "python",
   "name": "python3"
  },
  "language_info": {
   "codemirror_mode": {
    "name": "ipython",
    "version": 3
   },
   "file_extension": ".py",
   "mimetype": "text/x-python",
   "name": "python",
   "nbconvert_exporter": "python",
   "pygments_lexer": "ipython3",
   "version": "3.9.0+"
  }
 },
 "nbformat": 4,
 "nbformat_minor": 4
}
