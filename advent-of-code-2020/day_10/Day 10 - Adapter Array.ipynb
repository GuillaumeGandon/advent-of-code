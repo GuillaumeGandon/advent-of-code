{
 "cells": [
  {
   "cell_type": "code",
   "execution_count": 1,
   "metadata": {
    "ExecuteTime": {
     "end_time": "2020-12-10T07:32:54.116813Z",
     "start_time": "2020-12-10T07:32:54.113885Z"
    }
   },
   "outputs": [],
   "source": [
    "from itertools import combinations\n",
    "\n",
    "with open('input.txt', 'r') as f:\n",
    "    jolts = sorted(list(map(int, f.read().splitlines())))\n",
    "\n",
    "device_joltage = jolts[-1]\n",
    "jolts.append(device_joltage + 3)"
   ]
  },
  {
   "cell_type": "code",
   "execution_count": 2,
   "metadata": {
    "ExecuteTime": {
     "end_time": "2020-12-10T07:32:54.121028Z",
     "start_time": "2020-12-10T07:32:54.117977Z"
    }
   },
   "outputs": [
    {
     "name": "stdout",
     "output_type": "stream",
     "text": [
      "Answer part one: 1914\n"
     ]
    }
   ],
   "source": [
    "dif = []\n",
    "last_jolt = 0\n",
    "for jolt in jolts:\n",
    "    dif.append(jolt - last_jolt)\n",
    "    last_jolt = jolt\n",
    "\n",
    "print(f\"Answer part one: {dif.count(1) * dif.count(3)}\")"
   ]
  },
  {
   "cell_type": "code",
   "execution_count": 3,
   "metadata": {
    "ExecuteTime": {
     "end_time": "2020-12-10T07:32:54.125870Z",
     "start_time": "2020-12-10T07:32:54.122117Z"
    }
   },
   "outputs": [
    {
     "name": "stdout",
     "output_type": "stream",
     "text": [
      "Answer part two: 9256148959232\n"
     ]
    }
   ],
   "source": [
    "seq = []\n",
    "count = 1\n",
    "\n",
    "for i in range(len(dif) - 1):\n",
    "    if dif[i:i + 2] == [1, 3] and seq:\n",
    "        count *= (len(list(combinations(seq, 2))) +\n",
    "                  len(list(combinations(seq, 1))) + 1)\n",
    "        seq = []\n",
    "    elif dif[i:i + 2] == [1, 1]:\n",
    "        seq.append(i)\n",
    "\n",
    "print(f\"Answer part two: {count}\")"
   ]
  }
 ],
 "metadata": {
  "kernelspec": {
   "display_name": "Python 3",
   "language": "python",
   "name": "python3"
  },
  "language_info": {
   "codemirror_mode": {
    "name": "ipython",
    "version": 3
   },
   "file_extension": ".py",
   "mimetype": "text/x-python",
   "name": "python",
   "nbconvert_exporter": "python",
   "pygments_lexer": "ipython3",
   "version": "3.8.5"
  }
 },
 "nbformat": 4,
 "nbformat_minor": 4
}
