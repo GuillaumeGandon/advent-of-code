{
 "cells": [
  {
   "cell_type": "code",
   "execution_count": 1,
   "metadata": {
    "ExecuteTime": {
     "end_time": "2020-12-15T11:51:50.696258Z",
     "start_time": "2020-12-15T11:51:50.687122Z"
    }
   },
   "outputs": [
    {
     "name": "stdout",
     "output_type": "stream",
     "text": [
      "Answer part one: 902451\n",
      "Answer part two: 85555470\n"
     ]
    }
   ],
   "source": [
    "import math\n",
    "import itertools\n",
    "\n",
    "with open('input.txt', 'r') as f:\n",
    "    entries = sorted(set([int(entry) for entry in f.readlines()]))\n",
    "\n",
    "for x in itertools.product(*[entries] * 2):\n",
    "    if sum(x) == 2020:\n",
    "        print(f'Answer part one: {math.prod(x)}')\n",
    "        break\n",
    "\n",
    "for x in itertools.product(*[entries] * 3):\n",
    "    if sum(x) == 2020:\n",
    "        print(f'Answer part two: {math.prod(x)}')\n",
    "        break"
   ]
  }
 ],
 "metadata": {
  "kernelspec": {
   "display_name": "Python 3",
   "language": "python",
   "name": "python3"
  },
  "language_info": {
   "codemirror_mode": {
    "name": "ipython",
    "version": 3
   },
   "file_extension": ".py",
   "mimetype": "text/x-python",
   "name": "python",
   "nbconvert_exporter": "python",
   "pygments_lexer": "ipython3",
   "version": "3.9.0+"
  }
 },
 "nbformat": 4,
 "nbformat_minor": 4
}
