{
 "cells": [
  {
   "cell_type": "code",
   "execution_count": 1,
   "metadata": {
    "ExecuteTime": {
     "end_time": "2020-12-06T15:37:24.843019Z",
     "start_time": "2020-12-06T15:37:24.840552Z"
    }
   },
   "outputs": [],
   "source": [
    "with open('input.txt', 'r') as f:\n",
    "    boarding_passes = f.read().splitlines()"
   ]
  },
  {
   "cell_type": "code",
   "execution_count": 2,
   "metadata": {
    "ExecuteTime": {
     "end_time": "2020-12-06T15:37:24.848127Z",
     "start_time": "2020-12-06T15:37:24.844441Z"
    }
   },
   "outputs": [],
   "source": [
    "def find_seat_id(boarding_pass):\n",
    "    binary_row = boarding_pass[:7].replace('F', '0').replace('B', '1')\n",
    "    binary_column = boarding_pass[7:].replace('L', '0').replace('R', '1')\n",
    "    row = int(binary_row, 2)\n",
    "    column = int(binary_column, 2)\n",
    "    return row * 8 + column"
   ]
  },
  {
   "cell_type": "code",
   "execution_count": 3,
   "metadata": {
    "ExecuteTime": {
     "end_time": "2020-12-06T15:37:24.852771Z",
     "start_time": "2020-12-06T15:37:24.849381Z"
    }
   },
   "outputs": [
    {
     "name": "stdout",
     "output_type": "stream",
     "text": [
      "Answer part one: 935\n"
     ]
    }
   ],
   "source": [
    "seat_ids = list(map(find_seat_id, boarding_passes))\n",
    "print(f'Answer part one: {max(seat_ids)}')"
   ]
  },
  {
   "cell_type": "code",
   "execution_count": 4,
   "metadata": {
    "ExecuteTime": {
     "end_time": "2020-12-06T15:37:24.859467Z",
     "start_time": "2020-12-06T15:37:24.853893Z"
    }
   },
   "outputs": [
    {
     "name": "stdout",
     "output_type": "stream",
     "text": [
      "Answer part two: 743\n"
     ]
    }
   ],
   "source": [
    "my_seat_id = None\n",
    "for i in range(min(seat_ids), max(seat_ids)+1):\n",
    "    if i not in seat_ids:\n",
    "        my_seat_id = i\n",
    "        break\n",
    "print(f'Answer part two: {my_seat_id}')"
   ]
  }
 ],
 "metadata": {
  "kernelspec": {
   "display_name": "Python 3",
   "language": "python",
   "name": "python3"
  },
  "language_info": {
   "codemirror_mode": {
    "name": "ipython",
    "version": 3
   },
   "file_extension": ".py",
   "mimetype": "text/x-python",
   "name": "python",
   "nbconvert_exporter": "python",
   "pygments_lexer": "ipython3",
   "version": "3.8.5"
  }
 },
 "nbformat": 4,
 "nbformat_minor": 4
}
